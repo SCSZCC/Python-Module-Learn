{
 "cells": [
  {
   "cell_type": "code",
   "execution_count": null,
   "metadata": {},
   "outputs": [],
   "source": [
    "from matplotlib import pyplot as plt\n",
    "import numpy as np"
   ]
  },
  {
   "cell_type": "code",
   "execution_count": null,
   "metadata": {},
   "outputs": [],
   "source": [
    "plt.rcParams['font.sans-serif'] = ['Microsoft YaHei']   # 加载中文字体，这里加载的是电脑的自带的微软雅黑字体"
   ]
  },
  {
   "cell_type": "code",
   "execution_count": null,
   "metadata": {},
   "outputs": [],
   "source": [
    "plt.figure(figsize=(9,9), dpi=100)\n",
    "plt.title(\"实现多个子图\")"
   ]
  },
  {
   "cell_type": "markdown",
   "metadata": {},
   "source": [
    "plt.figure(figsize, dpi)\n",
    "figsize用于设置图表画布的尺寸，以元组的形式填入，需要注意的是这里画布的尺寸是英寸， dpi表示分辨率，分辨率越高则越清晰。"
   ]
  },
  {
   "cell_type": "code",
   "execution_count": null,
   "metadata": {
    "scrolled": true
   },
   "outputs": [],
   "source": [
    "plt.figure(figsize=(9,9), dpi=100)\n",
    "plt.figure(1)\n",
    "data = [10,20,30,40,50,60,70,80,90]\n",
    "h = [1,2,3,4,5,6,7,8,9]\n",
    "plt.xlabel(\"x轴\")\n",
    "plt.ylabel(\"y轴\")\n",
    "ax1 = plt.subplot(221)\n",
    "plt.plot(data)\n",
    "ax2 = plt.subplot(222)\n",
    "plt.bar(h, data)\n",
    "ax3 = plt.subplot(223)\n",
    "plt.scatter(h, data)\n",
    "ax3 = plt.subplot(224)\n",
    "plt.pie(x=data,explode=[0.1,0.1,0.1,0.1,0.1,0.1,0.1,0.1,0.1], labels=['a','b','c','d','e','f','g','h', 'j'],shadow=True,autopct='%.1f%%')"
   ]
  },
  {
   "cell_type": "markdown",
   "metadata": {},
   "source": [
    "plt.figure(1)表示取第一块画板，一块画板对应一个窗口。如果有多个画板则表示有多个窗口。\n",
    "\n",
    "ax1 = plt.subplot(221)\n",
    "\n",
    "表示将当前画板分成2行2列，并取第一块区域，即左上角区域。同理222则表示2行2列的第二块区域，即右上角的区域。\n",
    "\n",
    "程序会自动根据设置的行列进行区域的划分，根据行列的设置不同，生成的图标风格也会发生变化。在完成区域的选定后就可以调用用相应的图标API进行图表的生成。\n"
   ]
  },
  {
   "cell_type": "code",
   "execution_count": null,
   "metadata": {},
   "outputs": [],
   "source": [
    "plt.figure(figsize=(9,9), dpi=100)\n",
    "plt.figure(1)\n",
    "data = [10,20,30,40,50,60,70,80,90]\n",
    "h = [1,2,3,4,5,6,7,8,9]\n",
    "plt.xlabel(\"x轴\")\n",
    "plt.ylabel(\"y轴\")\n",
    "ax1 = plt.subplot(221)\n",
    "plt.plot(data)\n",
    "ax2 = plt.subplot(222)\n",
    "plt.bar(h, data)\n",
    "ax3 = plt.subplot(212)\n",
    "plt.scatter(h, data)"
   ]
  },
  {
   "cell_type": "code",
   "execution_count": null,
   "metadata": {},
   "outputs": [],
   "source": [
    "plt.figure(figsize=(9,9), dpi=100)\n",
    "plt.figure(1)\n",
    "data = [10,20,30,40,50,60,70,80,90]\n",
    "h = [1,2,3,4,5,6,7,8,9]\n",
    "plt.xlabel(\"x轴\")\n",
    "plt.ylabel(\"y轴\")\n",
    "ax1 = plt.subplot(121)\n",
    "plt.plot(data)\n",
    "ax2 = plt.subplot(222)\n",
    "plt.bar(h, data)\n",
    "ax3 = plt.subplot(224)\n",
    "plt.scatter(h, data)"
   ]
  },
  {
   "cell_type": "code",
   "execution_count": null,
   "metadata": {},
   "outputs": [],
   "source": [
    "plt.figure(figsize=(9,9), dpi=100)\n",
    "plt.figure(1)\n",
    "data = [10,20,30,40,50,60,70,80,90]\n",
    "h = [1,2,3,4,5,6,7,8,9]\n",
    "ax1 = plt.subplot(121)\n",
    "x_locator = plt.MultipleLocator(1)\n",
    "y_locator = plt.MultipleLocator(5)\n",
    "ax1.xaxis.set_major_locator(x_locator)\n",
    "ax1.yaxis.set_major_locator(y_locator)\n",
    "plt.plot(data)\n",
    "ax2 = plt.subplot(222)\n",
    "ax2.xaxis.set_major_locator(x_locator)\n",
    "ax2.yaxis.set_major_locator(y_locator)\n",
    "plt.bar(h, data)\n",
    "ax3 = plt.subplot(224)\n",
    "ax3.xaxis.set_major_locator(x_locator)\n",
    "ax3.yaxis.set_major_locator(y_locator)\n",
    "plt.scatter(h, data)"
   ]
  },
  {
   "cell_type": "code",
   "execution_count": null,
   "metadata": {},
   "outputs": [],
   "source": [
    "data = [10,20,30,40,50,60,70,80,90]\n",
    "h = [1,2,3,4,5,6,7,8,9]\n",
    "x_locator = plt.MultipleLocator(1)\n",
    "y_locator = plt.MultipleLocator(5)\n",
    "figure, ax = plt.subplots(2,2,figsize=(10,10))\n",
    "ax[0][0].plot(data)\n",
    "ax[0][1].bar(h, data)\n",
    "ax[1][0].scatter(h, data)"
   ]
  },
  {
   "cell_type": "markdown",
   "metadata": {},
   "source": [
    "这里需要注意的是subplot和subplots在使用的时候是有区别的。subplots在调用的时候，通过填入参数的形式可以将画板规划好，同时返回一组坐标数组对象。\n",
    "因此在结合对象和数组的方式实现子图的生成。如ax[0][0]表示的就是第1行第1列，即左上角\n",
    "\n",
    "subpolts(ncols, nrows, figsize)\n",
    "\n",
    "subplots会返回一组对象，一个是画板，一个是坐标轴。因此在调用时候，需要使用两个变量分别存放。\n",
    "\n",
    "ncols填入行数， nrows填入列数。\n",
    "\n"
   ]
  }
 ],
 "metadata": {
  "kernelspec": {
   "display_name": "Python 3.8.3 64-bit",
   "language": "python",
   "name": "python38364bitc0d900d669f24d40805bdb2b641d9de6"
  },
  "language_info": {
   "codemirror_mode": {
    "name": "ipython",
    "version": 3
   },
   "file_extension": ".py",
   "mimetype": "text/x-python",
   "name": "python",
   "nbconvert_exporter": "python",
   "pygments_lexer": "ipython3",
   "version": "3.8.3"
  }
 },
 "nbformat": 4,
 "nbformat_minor": 2
}
