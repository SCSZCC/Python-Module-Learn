{
 "cells": [
  {
   "cell_type": "markdown",
   "metadata": {},
   "source": [
    "雷达图绘制"
   ]
  },
  {
   "cell_type": "code",
   "execution_count": null,
   "metadata": {},
   "outputs": [],
   "source": [
    "from matplotlib import pyplot as plt\n",
    "import numpy as np"
   ]
  },
  {
   "cell_type": "code",
   "execution_count": null,
   "metadata": {},
   "outputs": [],
   "source": [
    "plt.rcParams['font.sans-serif'] = ['Microsoft YaHei']   # 加载中文字体，这里加载的是电脑的自带的微软雅黑字体"
   ]
  },
  {
   "cell_type": "code",
   "execution_count": null,
   "metadata": {},
   "outputs": [],
   "source": [
    "theta = [0,0.25*np.pi,0.5*np.pi,0.75*np.pi,1*np.pi]\n",
    "r = [10,20,30,40,50]"
   ]
  },
  {
   "cell_type": "markdown",
   "metadata": {},
   "source": [
    "1Π表示180°，2Π表示360°。 np.pi表示调用numpy中的圆周率函数。"
   ]
  },
  {
   "cell_type": "code",
   "execution_count": null,
   "metadata": {},
   "outputs": [],
   "source": [
    "plt.title(\"这是一个雷达图的示例程序\")\n",
    "plt.polar(theta, r)"
   ]
  },
  {
   "cell_type": "code",
   "execution_count": null,
   "metadata": {},
   "outputs": [],
   "source": [
    "r = [10,20,30,40,50]\n",
    "theta = [0,0.4*np.pi,0.8*np.pi,1.2*np.pi,1.6*np.pi]\n",
    "plt.polar(theta, r)"
   ]
  },
  {
   "cell_type": "markdown",
   "metadata": {},
   "source": [
    "通过设置合理的角度，可以让数据更好的布局在雷达图当中。"
   ]
  },
  {
   "cell_type": "code",
   "execution_count": null,
   "metadata": {},
   "outputs": [],
   "source": [
    "r = [10,20,30,40,50]\n",
    "theta = [0,0.4*np.pi,0.8*np.pi,1.2*np.pi,1.6*np.pi]\n",
    "plt.polar(theta, r,marker=\"*\",linewidth=2)"
   ]
  },
  {
   "cell_type": "markdown",
   "metadata": {},
   "source": [
    "linewidth参数用于设置线段的宽度\n",
    "marker参数用于设置点的类型"
   ]
  },
  {
   "cell_type": "code",
   "execution_count": null,
   "metadata": {},
   "outputs": [],
   "source": [
    "r = [10,20,30,40,50, 10]    #增加一个与列表头一样的数据\n",
    "theta = [0,0.4*np.pi,0.8*np.pi,1.2*np.pi,1.6*np.pi,2*np.pi]  # 最后一个数据可以填入0或2*np.pi。\n",
    "plt.polar(theta, r,marker=\"*\",linewidth=2)"
   ]
  },
  {
   "cell_type": "markdown",
   "metadata": {},
   "source": [
    "增加数据实现雷达图的闭合。"
   ]
  },
  {
   "cell_type": "code",
   "execution_count": null,
   "metadata": {},
   "outputs": [],
   "source": [
    "r = [10,20,30,40,50]\n",
    "labels = ['a', 'b', 'c', 'd', 'e']\n",
    "theta = [0,0.4*np.pi,0.8*np.pi,1.2*np.pi,1.6*np.pi]\n",
    "angles = np.linspace(0, 2*np.pi, 5, endpoint=False) # 分割圆周长\n",
    "plt.polar(theta, r)\n",
    "plt.fill(angles, r)\n",
    "plt.thetagrids(angles*180/np.pi, labels)"
   ]
  },
  {
   "cell_type": "markdown",
   "metadata": {},
   "source": [
    "创建anlges变量用于存放np.linspace函数用于生成均匀分布的浮点数。数组的生成区间为0-2pi,即0-360°。分成5等分即360度除以5。即返回5个均匀分布角度值。\n",
    "\n",
    "使用plt.fill进行填充，根据角度值和对应的数值，确定填充面积或区域。\n",
    "\n",
    "plt.thetagrids(angles,labels)\n",
    "anlges:设置theata所在网格的位置\n",
    "labels填入对应的标签名称。\n",
    "\n"
   ]
  },
  {
   "cell_type": "code",
   "execution_count": null,
   "metadata": {},
   "outputs": [],
   "source": [
    "from matplotlib import pyplot as plt\n",
    "import numpy as np\n",
    "\n",
    "\n",
    "plt.rcParams['font.sans-serif'] = ['Microsoft YaHei']   # 加载中文字体，这里加载的是电脑的自带的微软雅黑字体\n",
    "r = [10,20,30,40,50]\n",
    "labels = ['a', 'b', 'c', 'd', 'e']\n",
    "theta = [0,0.4*np.pi,0.8*np.pi,1.2*np.pi,1.6*np.pi]\n",
    "angles = np.linspace(0, 2*np.pi, 5, endpoint=False) # 分割圆周长\n",
    "print(angles)\n",
    "print(angles*180/np.pi)\n",
    "plt.polar(theta, r)\n",
    "plt.fill(angles, r)\n",
    "plt.thetagrids(angles*180/np.pi, labels)"
   ]
  }
 ],
 "metadata": {
  "kernelspec": {
   "display_name": "Python 3.8.3 64-bit",
   "language": "python",
   "name": "python38364bitc0d900d669f24d40805bdb2b641d9de6"
  },
  "language_info": {
   "codemirror_mode": {
    "name": "ipython",
    "version": 3
   },
   "file_extension": ".py",
   "mimetype": "text/x-python",
   "name": "python",
   "nbconvert_exporter": "python",
   "pygments_lexer": "ipython3",
   "version": "3.8.3"
  }
 },
 "nbformat": 4,
 "nbformat_minor": 2
}
