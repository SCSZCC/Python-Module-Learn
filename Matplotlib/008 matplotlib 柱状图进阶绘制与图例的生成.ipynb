{
 "cells": [
  {
   "cell_type": "markdown",
   "metadata": {},
   "source": [
    "Matplotlib 柱状图进阶绘制与图例的生成"
   ]
  },
  {
   "cell_type": "code",
   "execution_count": null,
   "metadata": {},
   "outputs": [],
   "source": [
    "from matplotlib import pyplot as plt"
   ]
  },
  {
   "cell_type": "code",
   "execution_count": null,
   "metadata": {},
   "outputs": [],
   "source": [
    "plt.rcParams['font.sans-serif'] = ['Microsoft YaHei']\n",
    "plt.title('这是一个柱状图基础程序')\n",
    "plt.xlabel('这是x轴的标签')\n",
    "plt.ylabel('这是y轴的标签')\n",
    "month = [1,2,3,4,5,6,7,8,9,10,11,12]\n",
    "data_1 = [100,200,300,400,500,600,700,800,900,1000,1100,1200]\n",
    "ax = plt.gca()\n",
    "x_locator = plt.MultipleLocator(1)\n",
    "y_locator = plt.MultipleLocator(100)\n",
    "ax.yaxis.set_major_locator(y_locator)\n",
    "ax.xaxis.set_major_locator(x_locator)\n",
    "plt.xlim(0,13)\n",
    "plt.ylim(0, 1400)\n",
    "plt.bar(month, data_1)\n",
    "plt.show()"
   ]
  },
  {
   "cell_type": "code",
   "execution_count": null,
   "metadata": {},
   "outputs": [],
   "source": [
    "plt.rcParams['font.sans-serif'] = ['Microsoft YaHei']\n",
    "plt.title('这是一个柱状图基础程序')\n",
    "plt.xlabel('这是x轴的标签')\n",
    "plt.ylabel('这是y轴的标签')\n",
    "month = [1,2,3,4,5,6,7,8,9,10,11,12]\n",
    "data_1 = [100,200,300,400,500,600,700,800,900,1000,1100,1200]\n",
    "width = 0.5\n",
    "ax = plt.gca()\n",
    "x_locator = plt.MultipleLocator(1)\n",
    "y_locator = plt.MultipleLocator(100)\n",
    "ax.yaxis.set_major_locator(y_locator)\n",
    "ax.xaxis.set_major_locator(x_locator)\n",
    "plt.xlim(0,13)\n",
    "plt.ylim(0, 1400)\n",
    "plt.bar(month, data_1, width=0.2)\n",
    "plt.bar([i+0.2 for i in month], data_1, width=0.2,align='edge')\n",
    "plt.show()"
   ]
  },
  {
   "cell_type": "markdown",
   "metadata": {},
   "source": [
    "i+0.2 for i in month 是一种for循环的简化写法。 i+0.2表示对i的处理方式 for i in month表示for循环遍历month列表。"
   ]
  },
  {
   "cell_type": "code",
   "execution_count": null,
   "metadata": {},
   "outputs": [],
   "source": [
    "plt.rcParams['font.sans-serif'] = ['Microsoft YaHei']\n",
    "plt.title('这是一个柱状图基础程序')\n",
    "plt.xlabel('这是x轴的标签')\n",
    "plt.ylabel('这是y轴的标签')\n",
    "month = [1,2,3,4,5,6,7,8,9,10,11,12]\n",
    "data_1 = [100,200,300,400,500,600,700,800,900,1000,1100,1200]\n",
    "width = 0.5\n",
    "ax = plt.gca()\n",
    "x_locator = plt.MultipleLocator(1)\n",
    "y_locator = plt.MultipleLocator(100)\n",
    "ax.yaxis.set_major_locator(y_locator)\n",
    "ax.xaxis.set_major_locator(x_locator)\n",
    "plt.xlim(0,13)\n",
    "plt.ylim(0, 1400)\n",
    "plt.bar(month, data_1, width=0.2)\n",
    "plt.bar([i+0.2 for i in month], data_1, width=0.2,align='edge')\n",
    "plt.legend(['数据1', '数据2'])\n",
    "plt.show()"
   ]
  },
  {
   "cell_type": "markdown",
   "metadata": {},
   "source": [
    "plt.legend()用于生成图表当中的图例。通过列表的方式将图例名称传递给图例。"
   ]
  }
 ],
 "metadata": {
  "kernelspec": {
   "display_name": "Python 3.8.3 64-bit",
   "language": "python",
   "name": "python38364bitc0d900d669f24d40805bdb2b641d9de6"
  },
  "language_info": {
   "codemirror_mode": {
    "name": "ipython",
    "version": 3
   },
   "file_extension": ".py",
   "mimetype": "text/x-python",
   "name": "python",
   "nbconvert_exporter": "python",
   "pygments_lexer": "ipython3",
   "version": "3.8.3"
  }
 },
 "nbformat": 4,
 "nbformat_minor": 2
}
