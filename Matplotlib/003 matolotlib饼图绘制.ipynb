{
 "cells": [
  {
   "cell_type": "code",
   "execution_count": null,
   "metadata": {},
   "outputs": [],
   "source": [
    "from matplotlib import pyplot as plt"
   ]
  },
  {
   "cell_type": "code",
   "execution_count": null,
   "metadata": {},
   "outputs": [],
   "source": [
    "plt.rcParams['font.sans-serif'] = ['Microsoft YaHei']   # 加载中文字体，这里加载的是电脑的自带的微软雅黑字体"
   ]
  },
  {
   "cell_type": "code",
   "execution_count": null,
   "metadata": {},
   "outputs": [],
   "source": [
    "x1 = [10,20,30,40,50,60,70]"
   ]
  },
  {
   "cell_type": "code",
   "execution_count": null,
   "metadata": {},
   "outputs": [],
   "source": [
    "plt.title(\"这是一个饼图示例程序\")"
   ]
  },
  {
   "cell_type": "code",
   "execution_count": null,
   "metadata": {},
   "outputs": [],
   "source": [
    "plt.xlabel(\"X轴标签\")                                   # 设置X轴标签\n",
    "plt.ylabel(\"Y轴标签\")                                   # 设置Y轴标签"
   ]
  },
  {
   "cell_type": "code",
   "execution_count": null,
   "metadata": {},
   "outputs": [],
   "source": [
    "plt.pie(x=x1)"
   ]
  },
  {
   "cell_type": "markdown",
   "metadata": {},
   "source": [
    "plt.pie用于绘制饼图\n",
    "x参数填入饼图的数据，饼图会自动计算出数据占比，生成饼图。"
   ]
  },
  {
   "cell_type": "code",
   "execution_count": null,
   "metadata": {},
   "outputs": [],
   "source": [
    "plt.pie(x=x1,explode=[0.1,0.1,0.1,0.1,0.1,0.1,0.1])"
   ]
  },
  {
   "cell_type": "markdown",
   "metadata": {},
   "source": [
    "explode参数用于决定饼图的各个部分是否分开。默认是不分开。若要分开则需要对饼图的每一块进行设置。因此数据的长度应与x的长度一致。"
   ]
  },
  {
   "cell_type": "code",
   "execution_count": null,
   "metadata": {},
   "outputs": [],
   "source": [
    "plt.pie(x=x1,explode=[0.1,0.1,0.1,0.1,0.1,0.1,0.1], labels=['a','b','c','d','e','f','g'])"
   ]
  },
  {
   "cell_type": "markdown",
   "metadata": {},
   "source": [
    "labels标签用与定义每一块的名称，顺序对应x数据的顺序，且长度需要一致。"
   ]
  },
  {
   "cell_type": "code",
   "execution_count": null,
   "metadata": {},
   "outputs": [],
   "source": [
    "plt.pie(x=x1,explode=[0.1,0.1,0.1,0.1,0.1,0.1,0.1], labels=['a','b','c','d','e','f','g'],autopct='%.1f%%')"
   ]
  },
  {
   "cell_type": "markdown",
   "metadata": {},
   "source": [
    "autopct参数用于设置在饼图当中显示各个块的百分比。\n",
    "'%.1f%%'表示百分比保留一位小数点。示例10.1%\n",
    "\n",
    "'%.2f%%'表示百分比保留一位小数点。示例10.12%\n",
    "\n",
    "'%.3f%%'表示百分比保留一位小数点。示例10.123%\n",
    "\n",
    "以此类推"
   ]
  },
  {
   "cell_type": "code",
   "execution_count": null,
   "metadata": {},
   "outputs": [],
   "source": [
    "plt.pie(x=x1,explode=[0.1,0.1,0.1,0.1,0.1,0.1,0.1], labels=['a','b','c','d','e','f','g'],shadow=True)"
   ]
  },
  {
   "cell_type": "markdown",
   "metadata": {},
   "source": [
    "shadow用于设置图形的阴影效果。默认为False"
   ]
  },
  {
   "cell_type": "code",
   "execution_count": null,
   "metadata": {},
   "outputs": [],
   "source": [
    "plt.pie(x=x1,explode=[0.1,0.1,0.1,0.1,0.1,0.1,0.1], labels=['a','b','c','d','e','f','g'],shadow=True, radius=2)"
   ]
  },
  {
   "cell_type": "markdown",
   "metadata": {},
   "source": [
    "radius参数用于设置饼图员的半径，数值越大，图形越大。"
   ]
  },
  {
   "cell_type": "code",
   "execution_count": null,
   "metadata": {},
   "outputs": [],
   "source": [
    "from matplotlib import pyplot as plt\n",
    "plt.rcParams['font.sans-serif'] = ['Microsoft YaHei']   # 加载中文字体，这里加载的是电脑的自带的微软雅黑字体\n",
    "x1 = [10,20,30,40,50,60,70]\n",
    "plt.title(\"这是一个饼图示例程序\")\n",
    "plt.pie(x=x1,explode=[0.1,0.1,0.1,0.1,0.1,0.1,0.1], labels=['a','b','c','d','e','f','g'],shadow=True,autopct='%.1f%%')"
   ]
  }
 ],
 "metadata": {
  "kernelspec": {
   "display_name": "Python 3.8.3 64-bit",
   "language": "python",
   "name": "python38364bitc0d900d669f24d40805bdb2b641d9de6"
  },
  "language_info": {
   "codemirror_mode": {
    "name": "ipython",
    "version": 3
   },
   "file_extension": ".py",
   "mimetype": "text/x-python",
   "name": "python",
   "nbconvert_exporter": "python",
   "pygments_lexer": "ipython3",
   "version": "3.8.3"
  }
 },
 "nbformat": 4,
 "nbformat_minor": 2
}
