{
 "cells": [
  {
   "cell_type": "code",
   "execution_count": null,
   "metadata": {},
   "outputs": [],
   "source": [
    "from matplotlib import pyplot as plt"
   ]
  },
  {
   "cell_type": "code",
   "execution_count": null,
   "metadata": {},
   "outputs": [],
   "source": [
    "plt.rcParams['font.sans-serif'] = ['Microsoft YaHei']"
   ]
  },
  {
   "cell_type": "code",
   "execution_count": null,
   "metadata": {},
   "outputs": [],
   "source": [
    "plt.ylim(0, 100)\n",
    "plt.xlim(0, 100)\n",
    "plt.title(\"显示X Y轴的刻度情况\")"
   ]
  },
  {
   "cell_type": "markdown",
   "metadata": {},
   "source": [
    "plt.ylim(bottom, top)\n",
    "    bottom和top填入Y轴的数值区间，如（0-100）则表示坐标轴Y轴的数值区间为0-100\n",
    "    \n",
    "plt.xlim(left, right)\n",
    "   同理，xlim表示的是坐标轴X轴区间"
   ]
  },
  {
   "cell_type": "code",
   "execution_count": null,
   "metadata": {},
   "outputs": [],
   "source": [
    "ax = plt.gca()\n",
    "y_locator = plt.MultipleLocator(5)\n",
    "x_locator = plt.MultipleLocator(10)\n",
    "ax.yaxis.set_major_locator(y_locator)\n",
    "ax.xaxis.set_major_locator(x_locator)\n",
    "plt.ylim(0, 100)\n",
    "plt.xlim(0, 100)\n",
    "plt.title(\"显示X Y轴的刻度情况\")"
   ]
  },
  {
   "cell_type": "markdown",
   "metadata": {},
   "source": [
    "如果要对X Y轴的刻度进行精准的设计。\n",
    "plt.gca()可以获得当前图表坐标轴的情况，再通过设置参数实现对坐标轴的修改。\n",
    "\n",
    "plt.MultipleLocator(base)      \n",
    "表示将轴的刻度设置为base倍 即如果base = 5，则坐标轴上的刻度以5的倍速进行增长。\n",
    "\n",
    "ax.yaxis.set_major_locator(y_locator)\n",
    "\n",
    "ax.xaxis.set_major_locator(x_locator)\n",
    "\n",
    "表示将X、Y轴的刻度根据设置的倍数进行修改。\n"
   ]
  },
  {
   "cell_type": "code",
   "execution_count": null,
   "metadata": {},
   "outputs": [],
   "source": [
    "ax = plt.gca()\n",
    "y_locator = plt.MultipleLocator(5)\n",
    "x_locator = plt.MultipleLocator(10)\n",
    "ax.yaxis.set_major_locator(y_locator)\n",
    "ax.xaxis.set_major_locator(x_locator)\n",
    "plt.ylim(0, 100)\n",
    "plt.xlim(0, 100)\n",
    "plt.title(\"显示X Y轴的刻度情况\")\n",
    "plt.xlabel(\"X轴的标签\")\n",
    "plt.ylabel(\"Y轴的标签\")\n",
    "x_data = [10,20,30,40,50,60,70, 80, 90]\n",
    "data = [10, 20,30, 40, 50, 60, 70, 80, 90]\n",
    "plt.bar(x_data,data)"
   ]
  },
  {
   "cell_type": "markdown",
   "metadata": {},
   "source": [
    "完整示例程序："
   ]
  },
  {
   "cell_type": "code",
   "execution_count": null,
   "metadata": {},
   "outputs": [],
   "source": [
    "from matplotlib import pyplot as plt\n",
    "\n",
    "plt.rcParams['font.sans-serif'] = ['Microsoft YaHei']\n",
    "ax = plt.gca()\n",
    "y_locator = plt.MultipleLocator(5)\n",
    "x_locator = plt.MultipleLocator(10)\n",
    "ax.yaxis.set_major_locator(y_locator)\n",
    "ax.xaxis.set_major_locator(x_locator)\n",
    "plt.ylim(0, 100)\n",
    "plt.xlim(0, 100)\n",
    "plt.title(\"显示X Y轴的刻度情况\")\n",
    "plt.xlabel(\"X轴的标签\")\n",
    "plt.ylabel(\"Y轴的标签\")\n",
    "x_data = [10,20,30,40,50,60,70, 80, 90]\n",
    "data = [10, 20,30, 40, 50, 60, 70, 80, 90]\n",
    "plt.bar(x_data,data)\n",
    "plt.show()"
   ]
  }
 ],
 "metadata": {
  "kernelspec": {
   "display_name": "Python 3.8.3 64-bit",
   "language": "python",
   "name": "python38364bitc0d900d669f24d40805bdb2b641d9de6"
  },
  "language_info": {
   "codemirror_mode": {
    "name": "ipython",
    "version": 3
   },
   "file_extension": ".py",
   "mimetype": "text/x-python",
   "name": "python",
   "nbconvert_exporter": "python",
   "pygments_lexer": "ipython3",
   "version": "3.8.3"
  }
 },
 "nbformat": 4,
 "nbformat_minor": 2
}
