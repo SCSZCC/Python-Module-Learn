{
 "cells": [
  {
   "cell_type": "markdown",
   "metadata": {},
   "source": [
    "Matplotlib与CyberPi案例手册"
   ]
  },
  {
   "cell_type": "code",
   "execution_count": null,
   "metadata": {},
   "outputs": [],
   "source": [
    "from matplotlib import pyplot as plt\n",
    "import time\n",
    "import cyberpi"
   ]
  },
  {
   "cell_type": "code",
   "execution_count": null,
   "metadata": {},
   "outputs": [],
   "source": [
    "plt.rcParams['font.sans-serif'] = ['Microsoft YaHei']   # 加载中文字体，这里加载的是电脑的自带的微软雅黑字体"
   ]
  },
  {
   "cell_type": "markdown",
   "metadata": {},
   "source": [
    "童芯派的动态折线图，基于光线传感器"
   ]
  },
  {
   "cell_type": "code",
   "execution_count": null,
   "metadata": {},
   "outputs": [],
   "source": [
    "plt.ion()\n",
    "data = []\n",
    "while True:\n",
    "    bri = cyberpi.get_bri()\n",
    "    data.append(bri)\n",
    "    plt.xlabel(\"次数\")\n",
    "    plt.ylabel(\"光线强度\")\n",
    "    y_locator = plt.MultipleLocator(5)\n",
    "    ax = plt.gca()\n",
    "    ax.yaxis.set_major_locator(y_locator)\n",
    "    plt.ylim(0, 100)\n",
    "    plt.plot(data)\n",
    "    plt.title('光线动态折线图')\n",
    "    plt.legend(\"光线\")\n",
    "    plt.pause(0.3)\n",
    "    plt.clf()\n",
    "    if cyberpi.controller.is_press('a'):\n",
    "        break"
   ]
  },
  {
   "cell_type": "markdown",
   "metadata": {},
   "source": [
    "童芯派的动态柱状图，基于声音传感器"
   ]
  },
  {
   "cell_type": "code",
   "execution_count": null,
   "metadata": {},
   "outputs": [],
   "source": [
    "plt.ion()\n",
    "while True:\n",
    "    loud = cyberpi.get_loudness()\n",
    "    plt.xlabel(\"声音\")\n",
    "    plt.ylabel(\"声音强度\")\n",
    "    y_locator = plt.MultipleLocator(5)\n",
    "    ax = plt.gca()\n",
    "    ax.yaxis.set_major_locator(y_locator)\n",
    "    plt.ylim(0, 100)\n",
    "    plt.bar('sound', loud)\n",
    "    plt.title('声音动态柱状图')\n",
    "    plt.legend(\"声音\")\n",
    "    plt.pause(0.2)\n",
    "    plt.clf()\n",
    "    if cyberpi.controller.is_press('a'):\n",
    "        break"
   ]
  },
  {
   "cell_type": "markdown",
   "metadata": {},
   "source": [
    "童芯派的动态柱散点图，基于声音传感器和光线传感器      注意：仅作示例，并非用于分析光线和声音之间的数值关系。"
   ]
  },
  {
   "cell_type": "code",
   "execution_count": null,
   "metadata": {},
   "outputs": [],
   "source": [
    "plt.ion()\n",
    "while True:\n",
    "    loud = cyberpi.get_loudness()\n",
    "    bri = cyberpi.get_bri()\n",
    "    plt.xlabel(\"声音强度\")\n",
    "    plt.ylabel(\"光线强度\")\n",
    "    y_locator = plt.MultipleLocator(5)\n",
    "    x_locator = plt.MultipleLocator(5)\n",
    "    ax = plt.gca()\n",
    "    ax.yaxis.set_major_locator(y_locator)\n",
    "    ax.xaxis.set_major_locator(x_locator)\n",
    "    plt.ylim(0, 100)\n",
    "    plt.xlim(0, 100)\n",
    "    plt.scatter(loud, bri, color='blue')\n",
    "    plt.title('声音动态柱状图')\n",
    "    plt.pause(0.2)\n",
    "    if cyberpi.controller.is_press('a'):\n",
    "        break"
   ]
  },
  {
   "cell_type": "markdown",
   "metadata": {},
   "source": [
    "童芯派的动态饼图，基于掌上扩展板的电量分析。"
   ]
  },
  {
   "cell_type": "code",
   "execution_count": null,
   "metadata": {},
   "outputs": [],
   "source": [
    "plt.ion()\n",
    "while True:\n",
    "    battery = cyberpi.get_battery()\n",
    "    plt.clf()\n",
    "    size = [battery, 100-battery]\n",
    "    status = [f'剩余电量：{battery}%', f'已用电量：{100-battery}%']\n",
    "    plt.pie(size, labels = status, radius=1,wedgeprops = {'width': 0.3, 'edgecolor': 'w'})\n",
    "    plt.show()\n",
    "    plt.title('童芯派扩展板电量环形图')\n",
    "    plt.show()\n",
    "    plt.pause(1)\n",
    "    if cyberpi.controller.is_press('a'):\n",
    "        break"
   ]
  },
  {
   "cell_type": "markdown",
   "metadata": {},
   "source": [
    "童芯派多视图数据可视化"
   ]
  },
  {
   "cell_type": "code",
   "execution_count": null,
   "metadata": {},
   "outputs": [],
   "source": [
    "from matplotlib import pyplot as plt\n",
    "import time\n",
    "import cyberpi\n",
    "\n",
    "loud_list = []\n",
    "bri_list = []\n",
    "plt.rcParams['font.sans-serif'] = ['Microsoft YaHei']   # 加载中文字体，这里加载的是电脑的自带的微软雅黑字体\n",
    "plt.ion()\n",
    "plt.figure(figsize=(10,10))\n",
    "plt.figure(1)\n",
    "x_locator = plt.MultipleLocator(5)\n",
    "y_locator = plt.MultipleLocator(5)\n",
    "while True:\n",
    "    loud = cyberpi.get_loudness()\n",
    "    bri = cyberpi.get_bri()\n",
    "    loud_list.append(loud)\n",
    "    bri_list.append(bri)\n",
    "    battery = cyberpi.get_battery()\n",
    "    size = [battery, 100-battery]\n",
    "    status = [f'剩余电量：{battery}%', f'已用电量：{100-battery}%']\n",
    "    ax1 = plt.subplot(221)\n",
    "    plt.title('光线折线图')\n",
    "    ax1.plot(bri_list)\n",
    "    ax2 = plt.subplot(222)\n",
    "    plt.title('声音柱状图')\n",
    "    ax2.xaxis.set_major_locator(x_locator)\n",
    "    ax2.yaxis.set_major_locator(y_locator)\n",
    "    plt.ylim(0,100)\n",
    "    ax2.bar('sound', loud)\n",
    "    ax3 = plt.subplot(223)\n",
    "    ax3.xaxis.set_major_locator(x_locator)\n",
    "    ax3.yaxis.set_major_locator(y_locator)\n",
    "    plt.xlim(0,100)\n",
    "    plt.ylim(0,100)\n",
    "    plt.title('声音、音量散点图')\n",
    "    ax3.scatter(loud_list,bri_list)\n",
    "    ax4 = plt.subplot(224)\n",
    "    ax4.pie(size, labels = status, radius=1,wedgeprops = {'width': 0.3, 'edgecolor': 'w'})\n",
    "    plt.title('童芯派电量')\n",
    "    plt.pause(0.2)\n",
    "    plt.clf()\n",
    "    if cyberpi.controller.is_press('a'):\n",
    "        break\n",
    "    if len(bri_list) > 500:\n",
    "        bri_list = []\n",
    "        loud_list = []"
   ]
  },
  {
   "cell_type": "code",
   "execution_count": null,
   "metadata": {},
   "outputs": [],
   "source": []
  }
 ],
 "metadata": {
  "kernelspec": {
   "display_name": "Python 3.8.3 64-bit",
   "language": "python",
   "name": "python38364bitc0d900d669f24d40805bdb2b641d9de6"
  },
  "language_info": {
   "codemirror_mode": {
    "name": "ipython",
    "version": 3
   },
   "file_extension": ".py",
   "mimetype": "text/x-python",
   "name": "python",
   "nbconvert_exporter": "python",
   "pygments_lexer": "ipython3",
   "version": "3.8.3"
  }
 },
 "nbformat": 4,
 "nbformat_minor": 2
}
