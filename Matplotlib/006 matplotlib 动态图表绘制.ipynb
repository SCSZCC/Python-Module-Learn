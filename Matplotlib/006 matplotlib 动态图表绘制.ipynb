{
 "cells": [
  {
   "cell_type": "code",
   "execution_count": null,
   "metadata": {},
   "outputs": [],
   "source": [
    "from matplotlib import pyplot as plt"
   ]
  },
  {
   "cell_type": "code",
   "execution_count": null,
   "metadata": {},
   "outputs": [],
   "source": [
    "import random"
   ]
  },
  {
   "cell_type": "code",
   "execution_count": null,
   "metadata": {},
   "outputs": [],
   "source": [
    "plt.rcParams['font.sans-serif'] = ['Microsoft YaHei']   # 加载中文字体，这里加载的是电脑的自带的微软雅黑字体"
   ]
  },
  {
   "cell_type": "code",
   "execution_count": null,
   "metadata": {},
   "outputs": [],
   "source": [
    "data_list = []"
   ]
  },
  {
   "cell_type": "code",
   "execution_count": null,
   "metadata": {},
   "outputs": [],
   "source": [
    "plt.ion()        # 打开动态绘图功能。"
   ]
  },
  {
   "cell_type": "code",
   "execution_count": null,
   "metadata": {},
   "outputs": [],
   "source": [
    "while True:\n",
    "    plt.title(\"这是一个折线图的示例程序\")                   # 设置图表名称  \n",
    "    plt.xlabel(\"X轴标签\")                                   # 设置X轴标签\n",
    "    plt.ylabel(\"Y轴标签\")                                   # 设置Y轴标签\n",
    "    x1 = random.randint(0, 100)\n",
    "    data_list.append(x1)\n",
    "    plt.plot(data_list)\n",
    "    plt.show()\n",
    "    plt.pause(0.2)\n",
    "    plt.clf()"
   ]
  },
  {
   "cell_type": "markdown",
   "metadata": {},
   "source": [
    "动态图表的生成可以看作是图表的一次次清空，并再次绘制的过程。因此需要将图表的要素也放在循环当中用于重新生成。还有就是需要对生成的图表数据进行新的赋值或者调整。如程序中data_list列表的中的数据是不断增加的。因此每次调用plt.plot生成的图表都会有所变化。\n",
    "\n",
    "plt.ion() \n",
    "表示打开动态绘图。\n",
    "\n",
    "plt.pause(float) \n",
    "设置刷新间隔,括号内填入时间。\n",
    "\n",
    "plt.clf()  \n",
    "表示清空窗口当中的图表\n",
    "\n",
    "\n"
   ]
  },
  {
   "cell_type": "code",
   "execution_count": null,
   "metadata": {},
   "outputs": [],
   "source": [
    "from matplotlib import pyplot as plt\n",
    "import random\n",
    "\n",
    "\n",
    "plt.rcParams['font.sans-serif'] = ['Microsoft YaHei']   # 加载中文字体，这里加载的是电脑的自带的微软雅黑字体\n",
    "data_list = []\n",
    "plt.ion()\n",
    "\n",
    "while True:\n",
    "    plt.title(\"这是一个折线图的示例程序\")                   # 设置图表名称  \n",
    "    plt.xlabel(\"X轴标签\")                                   # 设置X轴标签\n",
    "    plt.ylabel(\"Y轴标签\")                                   # 设置Y轴标签\n",
    "    x1 = random.randint(0, 100)\n",
    "    data_list.append(x1)\n",
    "    plt.plot(data_list)\n",
    "    plt.show()\n",
    "    plt.pause(0.2)\n",
    "    plt.clf()"
   ]
  },
  {
   "cell_type": "markdown",
   "metadata": {},
   "source": [
    "动态柱状图"
   ]
  },
  {
   "cell_type": "code",
   "execution_count": null,
   "metadata": {},
   "outputs": [],
   "source": [
    "while True:\n",
    "    data = random.randint(1, 100)\n",
    "    plt.title(\"这是一个动态柱状图\")\n",
    "    plt.xlabel(\"X轴标签\")                                   # 设置X轴标签\n",
    "    plt.ylabel(\"Y轴标签\")                                   # 设置Y轴标签\n",
    "    y_locator = plt.MultipleLocator(5)\n",
    "    ax=plt.gca()\n",
    "    ax.yaxis.set_major_locator(y_locator)\n",
    "    plt.ylim(0,100)\n",
    "    plt.bar('数据1', data)\n",
    "    plt.show()\n",
    "    plt.pause(0.3)\n",
    "    plt.clf()"
   ]
  },
  {
   "cell_type": "markdown",
   "metadata": {},
   "source": [
    "ax=plt.gca()\n",
    "实例化坐标轴ax\n",
    "\n",
    "y_locator = plt.MultipleLocator(5) 设置刻度间隔为5\n",
    "\n",
    "ax.yaxis.set_major_locator(y_locator)   将Y轴的刻度设置为间隔5\n",
    "\n",
    "plt.ylim(0,100)  设置y轴区间为0-100"
   ]
  }
 ],
 "metadata": {
  "kernelspec": {
   "display_name": "Python 3.8.3 64-bit",
   "language": "python",
   "name": "python38364bitc0d900d669f24d40805bdb2b641d9de6"
  },
  "language_info": {
   "codemirror_mode": {
    "name": "ipython",
    "version": 3
   },
   "file_extension": ".py",
   "mimetype": "text/x-python",
   "name": "python",
   "nbconvert_exporter": "python",
   "pygments_lexer": "ipython3",
   "version": "3.8.3"
  }
 },
 "nbformat": 4,
 "nbformat_minor": 2
}
