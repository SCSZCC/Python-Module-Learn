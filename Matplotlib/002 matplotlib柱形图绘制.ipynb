{
 "cells": [
  {
   "cell_type": "code",
   "execution_count": null,
   "metadata": {},
   "outputs": [],
   "source": [
    "from matplotlib import pyplot as plt  # 导入模块"
   ]
  },
  {
   "cell_type": "code",
   "execution_count": null,
   "metadata": {},
   "outputs": [],
   "source": [
    "plt.rcParams['font.sans-serif'] = ['Microsoft YaHei']   # 加载中文字体，这里加载的是电脑的自带的微软雅黑字体"
   ]
  },
  {
   "cell_type": "code",
   "execution_count": null,
   "metadata": {},
   "outputs": [],
   "source": [
    "x_data = ['a', 'b', 'c', 'd', 'e', 'f', 'g']\n",
    "data = [10, 20,30, 40, 50, 60, 70]"
   ]
  },
  {
   "cell_type": "code",
   "execution_count": null,
   "metadata": {},
   "outputs": [],
   "source": [
    "plt.title(\"这是一个柱状图示例程序\")"
   ]
  },
  {
   "cell_type": "code",
   "execution_count": null,
   "metadata": {},
   "outputs": [],
   "source": [
    "plt.xlabel(\"X轴的标签\")\n",
    "plt.ylabel(\"y轴的标签\")"
   ]
  },
  {
   "cell_type": "code",
   "execution_count": null,
   "metadata": {},
   "outputs": [],
   "source": [
    "plt.bar(x=x_data, height=data)\n",
    "plt.show()"
   ]
  },
  {
   "cell_type": "markdown",
   "metadata": {},
   "source": [
    "plt.bar(x, height)\n",
    "参数x填入x轴上的参数，可以理解为你在X轴上要放置什么刻度信息\n",
    "参数height填入柱形图的高度信息，即柱形图顶点的Y轴坐标。"
   ]
  },
  {
   "cell_type": "code",
   "execution_count": null,
   "metadata": {},
   "outputs": [],
   "source": [
    "plt.bar(x=x_data, height=data, align=\"edge\")\n",
    "plt.show()"
   ]
  },
  {
   "cell_type": "markdown",
   "metadata": {},
   "source": [
    "plt(x, height, align)\n",
    "align参数用于设置柱形图与x轴刻度的对齐方式。可以填入\"center\"和\"edge\"，若不填写默认是\"center\""
   ]
  },
  {
   "cell_type": "code",
   "execution_count": null,
   "metadata": {},
   "outputs": [],
   "source": [
    "plt.bar(x=x_data, height=data, width=1.5)"
   ]
  },
  {
   "cell_type": "markdown",
   "metadata": {},
   "source": [
    "plt(x, height, width)\n",
    "width参数用以填入柱形图的宽度，默认是0.8"
   ]
  },
  {
   "cell_type": "code",
   "execution_count": null,
   "metadata": {},
   "outputs": [],
   "source": [
    "plt.bar(x=x_data, height=data, bottom=120)"
   ]
  },
  {
   "cell_type": "markdown",
   "metadata": {},
   "source": [
    "plt.bar(x, height, bottom)\n",
    "bottom参数用于设置图表的起始高度。默认为0，在上方的代码当中将bottom设置为120后，可以观察到左侧的Y轴的刻度起始值发生了变化，由原先的0变化成了120。对应的柱状图对应的数据也变化了，相当于每个数值都增加了120。"
   ]
  },
  {
   "cell_type": "code",
   "execution_count": null,
   "metadata": {},
   "outputs": [],
   "source": [
    "plt.bar(x=x_data, height=data, color = 'green', edgecolor='black', linewidth=5)"
   ]
  },
  {
   "cell_type": "markdown",
   "metadata": {},
   "source": [
    "plt.bar(x=x_data, height=data, color = 'green', edgecolor='black', linewidth=5)\n",
    "color参数用于设置柱状图的颜色\n",
    "egdecolor用以设置柱状图轮廓的颜色\n",
    "linewidth用以设置edgecolor的线宽，即外轮廓的宽度，默认为0。"
   ]
  },
  {
   "cell_type": "markdown",
   "metadata": {},
   "source": [
    "除了绘制垂直柱状图，matplotlib当中还提供了水平柱状图的绘制。"
   ]
  },
  {
   "cell_type": "code",
   "execution_count": null,
   "metadata": {},
   "outputs": [],
   "source": [
    "plt.barh(y=x_data, width=data, color = 'green', edgecolor='black', linewidth=5)"
   ]
  },
  {
   "cell_type": "markdown",
   "metadata": {},
   "source": [
    "plt.barh(y, width, height,left, align)\n",
    "plt.bar(x, height, width, bottom, align)\n",
    "y参数对应bar当中的x,width对应height，height对应width,left对应bottom，align相同"
   ]
  },
  {
   "cell_type": "code",
   "execution_count": null,
   "metadata": {},
   "outputs": [],
   "source": []
  }
 ],
 "metadata": {
  "kernelspec": {
   "display_name": "Python 3.8.3 64-bit",
   "language": "python",
   "name": "python38364bitc0d900d669f24d40805bdb2b641d9de6"
  },
  "language_info": {
   "codemirror_mode": {
    "name": "ipython",
    "version": 3
   },
   "file_extension": ".py",
   "mimetype": "text/x-python",
   "name": "python",
   "nbconvert_exporter": "python",
   "pygments_lexer": "ipython3",
   "version": "3.8.3"
  }
 },
 "nbformat": 4,
 "nbformat_minor": 2
}
