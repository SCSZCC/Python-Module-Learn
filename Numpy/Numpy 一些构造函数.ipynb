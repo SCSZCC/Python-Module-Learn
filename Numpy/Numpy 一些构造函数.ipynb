{
 "cells": [
  {
   "cell_type": "markdown",
   "metadata": {},
   "source": [
    "Numpy中的一些造函数"
   ]
  },
  {
   "cell_type": "code",
   "execution_count": null,
   "metadata": {},
   "outputs": [],
   "source": [
    "import numpy as np"
   ]
  },
  {
   "cell_type": "code",
   "execution_count": null,
   "metadata": {},
   "outputs": [],
   "source": [
    "a = np.linspace(0, 10, 20, endpoint=True)\n",
    "print(a)"
   ]
  },
  {
   "cell_type": "markdown",
   "metadata": {},
   "source": [
    "np.linspace(start, stop, num, endpoint)\n",
    "\n",
    "linspace函数的主要作用是用于生成均匀分布的浮点数\n",
    "\n",
    "start和stop用于设置取值区间\n",
    "\n",
    "num参数用于设置取值的数量\n",
    "\n",
    "endpoint用于设置开区间或者闭区间，开区间为False,闭区间为True"
   ]
  },
  {
   "cell_type": "code",
   "execution_count": null,
   "metadata": {},
   "outputs": [],
   "source": [
    "b = np.logspace(0, 10, 20, endpoint=True)\n",
    "print(b)"
   ]
  },
  {
   "cell_type": "markdown",
   "metadata": {},
   "source": [
    "np.logspace(start, stop, num, endpoint)\n",
    "\n",
    "logspace函数的主要作用是用于生成均匀分布的对数\n",
    "\n",
    "start和stop用于设置取值区间\n",
    "\n",
    "num参数用于设置取值的数量\n",
    "\n",
    "endpoint用于设置开区间或者闭区间，开区间为False,闭区间为True"
   ]
  },
  {
   "cell_type": "code",
   "execution_count": null,
   "metadata": {},
   "outputs": [],
   "source": [
    "c = np.arange(1,10,1)\n",
    "print(c)"
   ]
  },
  {
   "cell_type": "markdown",
   "metadata": {},
   "source": [
    "np.arange(start,stop,step=1,dtype=int)\n",
    "\n",
    "可以根据设置区间和步长以及数据类型返回一个数组。\n",
    "\n",
    "start和stop用于设定数值的取值区间\n",
    "\n",
    "step用于设置数值的取值步长。默认为1。\n",
    "\n",
    "dtype用于设置生成的数据类型。"
   ]
  },
  {
   "cell_type": "code",
   "execution_count": null,
   "metadata": {},
   "outputs": [],
   "source": [
    "c = np.arange(1,10,2)\n",
    "print(c)"
   ]
  },
  {
   "cell_type": "code",
   "execution_count": null,
   "metadata": {},
   "outputs": [],
   "source": [
    "c = np.arange(1,10,1,dtype=complex)\n",
    "print(c)"
   ]
  },
  {
   "cell_type": "code",
   "execution_count": null,
   "metadata": {},
   "outputs": [],
   "source": [
    "c = np.arange(1,10,1,dtype=float)\n",
    "print(c)"
   ]
  },
  {
   "cell_type": "code",
   "execution_count": null,
   "metadata": {},
   "outputs": [],
   "source": [
    "c = np.arange(1,10,1,dtype=int)\n",
    "print(c)"
   ]
  },
  {
   "cell_type": "code",
   "execution_count": null,
   "metadata": {},
   "outputs": [],
   "source": [
    "d = np.zeros(10,dtype=int)\n",
    "print(d)"
   ]
  },
  {
   "cell_type": "code",
   "execution_count": null,
   "metadata": {},
   "outputs": [],
   "source": [
    "e = np.ones(10,dtype=float)\n",
    "print(e)"
   ]
  },
  {
   "cell_type": "code",
   "execution_count": null,
   "metadata": {},
   "outputs": [],
   "source": [
    "f = np.array([1,2,3.0],dtype=float)\n",
    "print(f)"
   ]
  },
  {
   "cell_type": "markdown",
   "metadata": {},
   "source": [
    "np.array(c, dtype)\n",
    "\n",
    "array可以将填入的数据，转换成指定数据类型的数组\n",
    "\n",
    "参数c可以放入任何可索引的参数类型\n",
    "\n",
    "dtype:填入数据类型"
   ]
  },
  {
   "cell_type": "code",
   "execution_count": null,
   "metadata": {},
   "outputs": [],
   "source": [
    "f = np.array([1,2,3.0],dtype=bool,copy=False)\n",
    "print(f)"
   ]
  },
  {
   "cell_type": "code",
   "execution_count": null,
   "metadata": {},
   "outputs": [],
   "source": []
  }
 ],
 "metadata": {
  "kernelspec": {
   "display_name": "Python 3.8.3 64-bit",
   "language": "python",
   "name": "python38364bitc0d900d669f24d40805bdb2b641d9de6"
  },
  "language_info": {
   "codemirror_mode": {
    "name": "ipython",
    "version": 3
   },
   "file_extension": ".py",
   "mimetype": "text/x-python",
   "name": "python",
   "nbconvert_exporter": "python",
   "pygments_lexer": "ipython3",
   "version": "3.8.3"
  }
 },
 "nbformat": 4,
 "nbformat_minor": 2
}
